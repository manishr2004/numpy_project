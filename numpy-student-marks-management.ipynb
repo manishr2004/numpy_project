{
  "nbformat": 4,
  "nbformat_minor": 0,
  "metadata": {
    "colab": {
      "provenance": []
    },
    "kernelspec": {
      "name": "python3",
      "display_name": "Python 3"
    },
    "language_info": {
      "name": "python"
    }
  },
  "cells": [
    {
      "cell_type": "markdown",
      "source": [
        "🎯 Objective:\n",
        "You are working with student marks data and need to prepare and organize it using NumPy arrays.Your goal is to create, modify, and analyze the data efficiently without using any external libraries.\n",
        "\n",
        "🧠 Project Description:\n",
        "A school has recorded the marks of several students in different subjects.You are required to design a NumPy-based solution to store, manage, and process this data.Your tasks involve creating arrays, changing their shapes, combining data, performing modifications, and analyzing patterns — all using NumPy.\n",
        "\n",
        "📋 Project Tasks:\n",
        "**Data Creation:**Create suitable arrays to represent students, subjects, and their marks.\n",
        "\n",
        "**Data Exploration:**Explore the properties of these arrays — such as their dimensions, size, and structure.\n",
        "\n",
        "**Data Transformation:**Perform necessary reshaping and reorganization of the data to suit various operations.\n",
        "\n",
        "**Data Combination:**Merge or split arrays to simulate adding new students, new subjects, or reorganizing the dataset.\n",
        "\n",
        "**Data Modification:**Apply operations to update marks, remove data, or identify unique information.\n",
        "\n",
        "**Data Type Handling:**Demonstrate how the same data can exist in different data types and how changes affect results.\n",
        "\n",
        "**Copy and View Behavior:**Show the difference between creating a full copy of an array and creating a view of the same data.\n"
      ],
      "metadata": {
        "id": "MXVzVL8rzwb0"
      }
    },
    {
      "cell_type": "code",
      "execution_count": null,
      "metadata": {
        "id": "AFJVTu1Zx7BM"
      },
      "outputs": [],
      "source": [
        "import numpy as np"
      ]
    },
    {
      "cell_type": "code",
      "source": [
        "student_name=np.array([\"man\",\"amy\",\"hinata\",\"joey\",\"alex\",\"cam\"])\n",
        "subject=np.array(['kannada','maths','social','science','english'])\n",
        "marks=np.array([[87,79,98,78,88],\n",
        "                [84,94,94,77,82],\n",
        "                [85,79,90,82,85],\n",
        "                [83,91,91,71,84],\n",
        "                [84,93,98,98,81],\n",
        "                [80,75,86,88,86],\n",
        "                ])"
      ],
      "metadata": {
        "id": "TTlKXl7wz2s7"
      },
      "execution_count": null,
      "outputs": []
    },
    {
      "cell_type": "code",
      "source": [
        "ms=marks.shape\n",
        "md=marks.ndim\n",
        "mshz=marks.size"
      ],
      "metadata": {
        "id": "Ng5T9Jt51V8P"
      },
      "execution_count": null,
      "outputs": []
    },
    {
      "cell_type": "code",
      "source": [
        "marksrp=marks.reshape(-1)"
      ],
      "metadata": {
        "id": "4YlO1Dt11d3a"
      },
      "execution_count": null,
      "outputs": []
    },
    {
      "cell_type": "code",
      "source": [
        "new_stumarks=np.array([[84,85,93,83,90]])\n",
        "markscombin=np.vstack((marks,new_stumarks))"
      ],
      "metadata": {
        "id": "P4PGNlvg10qq"
      },
      "execution_count": null,
      "outputs": []
    },
    {
      "cell_type": "code",
      "source": [
        "marks"
      ],
      "metadata": {
        "colab": {
          "base_uri": "https://localhost:8080/"
        },
        "id": "FiOpcUvT2UiM",
        "outputId": "1dccfb99-fec3-4ab0-c7a6-eb0b055ee7d5"
      },
      "execution_count": null,
      "outputs": [
        {
          "output_type": "execute_result",
          "data": {
            "text/plain": [
              "array([[87, 79, 98, 78, 88],\n",
              "       [84, 94, 94, 77, 82],\n",
              "       [85, 79, 90, 82, 85],\n",
              "       [83, 91, 91, 71, 84],\n",
              "       [84, 93, 98, 98, 81],\n",
              "       [80, 75, 86, 88, 86]])"
            ]
          },
          "metadata": {},
          "execution_count": 18
        }
      ]
    },
    {
      "cell_type": "code",
      "source": [
        "marks[3][3]=79"
      ],
      "metadata": {
        "id": "AlPCa9mH2Z9A"
      },
      "execution_count": null,
      "outputs": []
    },
    {
      "cell_type": "code",
      "source": [
        "marks"
      ],
      "metadata": {
        "colab": {
          "base_uri": "https://localhost:8080/"
        },
        "id": "XTbpH6E62kUE",
        "outputId": "0c1dab8f-c3fe-4711-b582-99386a81fcf5"
      },
      "execution_count": null,
      "outputs": [
        {
          "output_type": "execute_result",
          "data": {
            "text/plain": [
              "array([[87, 79, 98, 78, 88],\n",
              "       [84, 94, 94, 77, 82],\n",
              "       [85, 79, 90, 82, 85],\n",
              "       [83, 91, 91, 79, 84],\n",
              "       [84, 93, 98, 98, 81],\n",
              "       [80, 75, 86, 88, 86]])"
            ]
          },
          "metadata": {},
          "execution_count": 20
        }
      ]
    },
    {
      "cell_type": "code",
      "source": [
        "marks_modified = np.delete(marks, 3, axis=0)"
      ],
      "metadata": {
        "id": "I_NTGolw2l2K"
      },
      "execution_count": null,
      "outputs": []
    },
    {
      "cell_type": "code",
      "source": [
        "marks_float = marks.astype(float)"
      ],
      "metadata": {
        "id": "VNInXvwB2vFc"
      },
      "execution_count": null,
      "outputs": []
    },
    {
      "cell_type": "code",
      "source": [
        "teacherside=marks.view()\n"
      ],
      "metadata": {
        "id": "rZyCf6NX21Fc"
      },
      "execution_count": null,
      "outputs": []
    },
    {
      "cell_type": "code",
      "source": [
        "parentside=marks.copy()"
      ],
      "metadata": {
        "id": "V2TgNN3k28WG"
      },
      "execution_count": null,
      "outputs": []
    }
  ]
}